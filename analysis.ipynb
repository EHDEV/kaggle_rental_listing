{
 "cells": [
  {
   "cell_type": "code",
   "execution_count": 1,
   "metadata": {
    "collapsed": false
   },
   "outputs": [],
   "source": [
    "from data_transform import *\n",
    "from train_predict_submit import *\n"
   ]
  },
  {
   "cell_type": "code",
   "execution_count": 2,
   "metadata": {
    "collapsed": true
   },
   "outputs": [],
   "source": [
    "data_train = pd.read_csv(\"./data/train_sample.csv\", encoding='utf-8', engine='python', sep=',')\n",
    "sub_test = pd.read_csv(\"./data/test_sample.csv\")"
   ]
  },
  {
   "cell_type": "code",
   "execution_count": 3,
   "metadata": {
    "collapsed": false
   },
   "outputs": [
    {
     "ename": "NameError",
     "evalue": "name 'split_to_len' is not defined",
     "output_type": "error",
     "traceback": [
      "\u001b[0;31m---------------------------------------------------------------------------\u001b[0m",
      "\u001b[0;31mNameError\u001b[0m                                 Traceback (most recent call last)",
      "\u001b[0;32m<ipython-input-3-b6fa91c655f2>\u001b[0m in \u001b[0;36m<module>\u001b[0;34m()\u001b[0m\n\u001b[1;32m      3\u001b[0m \u001b[0mnulls\u001b[0m \u001b[0;34m=\u001b[0m \u001b[0mdata_clean\u001b[0m\u001b[0;34m[\u001b[0m\u001b[0;34m'building_id'\u001b[0m\u001b[0;34m]\u001b[0m\u001b[0;34m.\u001b[0m\u001b[0misnull\u001b[0m\u001b[0;34m(\u001b[0m\u001b[0;34m)\u001b[0m\u001b[0;34m\u001b[0m\u001b[0m\n\u001b[1;32m      4\u001b[0m \u001b[0mdata_clean\u001b[0m \u001b[0;34m=\u001b[0m \u001b[0mdata_clean\u001b[0m\u001b[0;34m[\u001b[0m\u001b[0;34m~\u001b[0m\u001b[0mnulls\u001b[0m\u001b[0;34m]\u001b[0m\u001b[0;34m.\u001b[0m\u001b[0mreset_index\u001b[0m\u001b[0;34m(\u001b[0m\u001b[0mdrop\u001b[0m\u001b[0;34m=\u001b[0m\u001b[0;32mTrue\u001b[0m\u001b[0;34m)\u001b[0m\u001b[0;34m\u001b[0m\u001b[0m\n\u001b[0;32m----> 5\u001b[0;31m \u001b[0mdata_clean\u001b[0m\u001b[0;34m[\u001b[0m\u001b[0;34m'number_of_photos'\u001b[0m\u001b[0;34m]\u001b[0m \u001b[0;34m=\u001b[0m \u001b[0mdata_clean\u001b[0m\u001b[0;34m.\u001b[0m\u001b[0mphotos\u001b[0m\u001b[0;34m.\u001b[0m\u001b[0mapply\u001b[0m\u001b[0;34m(\u001b[0m\u001b[0msplit_to_len\u001b[0m\u001b[0;34m)\u001b[0m\u001b[0;34m\u001b[0m\u001b[0m\n\u001b[0m\u001b[1;32m      6\u001b[0m \u001b[0mdata_clean\u001b[0m\u001b[0;34m[\u001b[0m\u001b[0;34m'bedrooms'\u001b[0m\u001b[0;34m]\u001b[0m \u001b[0;34m=\u001b[0m \u001b[0mmunge_bedbath\u001b[0m\u001b[0;34m(\u001b[0m\u001b[0mdata_clean\u001b[0m\u001b[0;34m.\u001b[0m\u001b[0mbedrooms\u001b[0m\u001b[0;34m)\u001b[0m\u001b[0;34m\u001b[0m\u001b[0m\n\u001b[1;32m      7\u001b[0m \u001b[0mdata_clean\u001b[0m\u001b[0;34m[\u001b[0m\u001b[0;34m'bathrooms'\u001b[0m\u001b[0;34m]\u001b[0m \u001b[0;34m=\u001b[0m \u001b[0mmunge_bedbath\u001b[0m\u001b[0;34m(\u001b[0m\u001b[0mdata_clean\u001b[0m\u001b[0;34m.\u001b[0m\u001b[0mbathrooms\u001b[0m\u001b[0;34m)\u001b[0m\u001b[0;34m\u001b[0m\u001b[0m\n",
      "\u001b[0;31mNameError\u001b[0m: name 'split_to_len' is not defined"
     ]
    }
   ],
   "source": [
    "\n",
    "data_clean = data_train.copy()\n",
    "nulls = data_clean['building_id'].isnull()\n",
    "data_clean = data_clean[~nulls].reset_index(drop=True)\n",
    "data_clean['number_of_photos'] = data_clean.photos.apply(split_to_len)\n",
    "data_clean['bedrooms'] = munge_bedbath(data_clean.bedrooms)\n",
    "data_clean['bathrooms'] = munge_bedbath(data_clean.bathrooms)\n",
    "data_clean['price'] = scale_variable(data_clean['price'])\n",
    "\n",
    "data_clean = conv_geo_tocx(data_clean)"
   ]
  },
  {
   "cell_type": "code",
   "execution_count": null,
   "metadata": {
    "collapsed": true
   },
   "outputs": [],
   "source": [
    "\n",
    "    \n",
    "il_fix = []\n",
    "iremove = []\n",
    "for i, d in enumerate(data_clean.interest_level):\n",
    "    if len(str(d)) > 6:\n",
    "        if data_clean.building_id.loc[i] in ['medium', 'high', 'low']:\n",
    "            il_fix += [i]\n",
    "        else: \n",
    "            iremove += [i]\n",
    "    elif str(d).lower() in ['nan', '']:\n",
    "        iremove += [i]\n",
    "        \n",
    "data_clean.drop(iremove, inplace=True)\n",
    "data_clean.interest_level.loc[il_fix] = data_clean.building_id.loc[il_fix]\n",
    "data_clean.drop(data_clean[~data_clean.interest_level.isin(['medium', 'high', 'low'])].index, inplace=True)\n",
    "data_clean['interest_level'], _classes = encode_target(data_clean.interest_level)\n",
    "data_clean = data_clean[~data_clean.price.isnull()][~data_clean.longitude.isnull()]\n",
    "\n",
    "exclude_columns = [\n",
    "   'building_id', 'listing_id', 'photos', 'Unnamed: 0', 'latitude', u'description',u'longitude', u'display_address', u'manager_id', \n",
    "    u'street_address', u'created']\n",
    "\n",
    "\n",
    "for ec in exclude_columns:\n",
    "    try:\n",
    "        del data_clean[ec]\n",
    "    except:\n",
    "        print 'not deleted %s ' % ec\n",
    "        continue\n",
    "\n",
    "# #apply the function to the original df:\n",
    "# outlier = is_outlier(data_clean.price)\n",
    "# #filter to only non-outliers:\n",
    "# data_clean = data_clean[~(outlier)]\n",
    "\n"
   ]
  },
  {
   "cell_type": "code",
   "execution_count": null,
   "metadata": {
    "collapsed": true
   },
   "outputs": [],
   "source": [
    "\n",
    "\n",
    "y = np.array(data_clean.interest_level)\n",
    "X = np.array(data_clean.drop('interest_level', axis=1))\n",
    "Xtrain, ytrain, Xtest, ytest = split_test_train(X, y)\n",
    "Xtrain.shape, ytrain.shape, Xtest.shape, ytest.shape"
   ]
  },
  {
   "cell_type": "code",
   "execution_count": null,
   "metadata": {
    "collapsed": true
   },
   "outputs": [],
   "source": [
    "\n",
    "clfs = tune_model(Xtrain, ytrain)\n",
    "\n",
    "classifier = train_model(Xtrain, ytrain, clfs)\n",
    "\n",
    "pred = classifier.predict(Xtest)\n",
    "\n",
    "print(pd.DataFrame(confusion_matrix(ytest, pred, labels=[0,1,2])))\n",
    "print(classification_report(y_true=ytest, y_pred=pred, target_names=_classes))\n",
    "\n"
   ]
  }
 ],
 "metadata": {
  "kernelspec": {
   "display_name": "Python 3",
   "language": "python",
   "name": "python3"
  },
  "language_info": {
   "codemirror_mode": {
    "name": "ipython",
    "version": 3
   },
   "file_extension": ".py",
   "mimetype": "text/x-python",
   "name": "python",
   "nbconvert_exporter": "python",
   "pygments_lexer": "ipython3",
   "version": "3.6.0"
  }
 },
 "nbformat": 4,
 "nbformat_minor": 2
}
